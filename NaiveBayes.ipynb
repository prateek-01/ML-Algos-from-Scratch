{
  "nbformat": 4,
  "nbformat_minor": 0,
  "metadata": {
    "colab": {
      "name": "NaiveBayes.ipynb",
      "version": "0.3.2",
      "provenance": [],
      "collapsed_sections": []
    },
    "kernelspec": {
      "name": "python3",
      "display_name": "Python 3"
    }
  },
  "cells": [
    {
      "cell_type": "markdown",
      "metadata": {
        "id": "view-in-github",
        "colab_type": "text"
      },
      "source": [
        "[View in Colaboratory](https://colab.research.google.com/github/prateek-01/ML-Algos-from-Scratch/blob/master/NaiveBayes.ipynb)"
      ]
    },
    {
      "metadata": {
        "id": "AuhEoeijwk6c",
        "colab_type": "code",
        "colab": {}
      },
      "cell_type": "code",
      "source": [
        ""
      ],
      "execution_count": 0,
      "outputs": []
    },
    {
      "metadata": {
        "id": "5cHSGtDAMH0G",
        "colab_type": "text"
      },
      "cell_type": "markdown",
      "source": [
        "# We will run our Naive Baye's Implementation on Iris Dataset (after making it from continuous to labelled )"
      ]
    },
    {
      "metadata": {
        "id": "pEH4wdeK_ev6",
        "colab_type": "text"
      },
      "cell_type": "markdown",
      "source": [
        "*Note - The implementation is for labelled features only"
      ]
    },
    {
      "metadata": {
        "id": "8G1aghUM_frS",
        "colab_type": "code",
        "colab": {}
      },
      "cell_type": "code",
      "source": [
        "import numpy as np"
      ],
      "execution_count": 0,
      "outputs": []
    },
    {
      "metadata": {
        "id": "mAAkcZLyztim",
        "colab_type": "code",
        "colab": {}
      },
      "cell_type": "code",
      "source": [
        "def fit(X_train, Y_train):\n",
        "#  Returns a dictionary containing toal count of all values of a particular feature of a particular class\n",
        "  \n",
        "  result = {}\n",
        "  class_values = set(Y_train)\n",
        "  for current_class in class_values:\n",
        "    result[current_class] = {}\n",
        "    result['total_data'] = len(Y_train)\n",
        "    current_class_rows =  ( Y_train == current_class)\n",
        "    X_train_current = X_train[current_class_rows]\n",
        "    Y_train_current = Y_train[current_class_rows]\n",
        "    \n",
        "    num_features = X_train.shape[1]\n",
        "    \n",
        "    result[current_class]['total_count'] = len(Y_train_current)\n",
        "    \n",
        "    for j in range(1, num_features+1):\n",
        "      \n",
        "      result[current_class][j] = {}\n",
        "      all_possible_values = set(X_train[:,j-1])\n",
        "      for current_value in all_possible_values:\n",
        "        result[current_class][j][current_value] = (X_train_current[:,j-1] == current_value).sum()\n",
        "  \n",
        "  return result\n",
        "      \n",
        "      \n",
        "  "
      ],
      "execution_count": 0,
      "outputs": []
    },
    {
      "metadata": {
        "id": "83FH4LxzSo72",
        "colab_type": "code",
        "colab": {}
      },
      "cell_type": "code",
      "source": [
        "def probability(dictionary ,x , current_class):\n",
        "  output = np.log(dictionary[current_class]['total_count']) - np.log(dictionary['total_data'])\n",
        "  num_features = len(dictionary[current_class].keys()) -1\n",
        "  for j in range(1, num_features+1):\n",
        "    xj = x[j-1]\n",
        "    count_current_class_with_value_xj = dictionary[current_class][j][xj] + 1\n",
        "    count_current_class = dictionary[current_class]['total_count'] + len(dictionary[current_class][j].keys())\n",
        "    current_xj_probability = np.log(count_current_class_with_value_xj) - np.log(count_current_class)\n",
        "    output = output + current_xj_probability\n",
        "    \n",
        "  return output\n",
        "    "
      ],
      "execution_count": 0,
      "outputs": []
    },
    {
      "metadata": {
        "id": "lYZp7Ci8B-fK",
        "colab_type": "code",
        "colab": {}
      },
      "cell_type": "code",
      "source": [
        "def predictSinglePoint(dictionary, x):\n",
        "  classes = dictionary.keys()\n",
        "  best_p = -1000\n",
        "  best_class = -1\n",
        "  first_run = True\n",
        "  for current_class in classes:\n",
        "    \n",
        "    if(current_class == 'total_data'):\n",
        "      continue\n",
        "    p_current_class = probability(dictionary, x, current_class)\n",
        "    if(first_run or p_current_class > best_p):\n",
        "      best_p = p_current_class\n",
        "      best_class = current_class\n",
        "      \n",
        "    first_run = False\n",
        "    \n",
        "  return best_class  \n",
        "  "
      ],
      "execution_count": 0,
      "outputs": []
    },
    {
      "metadata": {
        "id": "MfxiO0QE_SPa",
        "colab_type": "code",
        "colab": {}
      },
      "cell_type": "code",
      "source": [
        "def predict(dictionary,X_test):\n",
        "  y_pred = []\n",
        "  for x in X_test:\n",
        "    x_class = predictSinglePoint(dictionary,x)\n",
        "    y_pred.append(x_class)\n",
        "  return y_pred\n",
        "\n",
        "  "
      ],
      "execution_count": 0,
      "outputs": []
    },
    {
      "metadata": {
        "id": "xHb5HKWI_SZO",
        "colab_type": "code",
        "colab": {}
      },
      "cell_type": "code",
      "source": [
        "def makeLabelled(column):\n",
        "  second_limit = column.mean()\n",
        "  first_limit = 0.5*second_limit\n",
        "  third_limit = 1.5*second_limit\n",
        "  for i in range(0,len(column)):\n",
        "    if (column[i] < first_limit):\n",
        "      column[i] = 0\n",
        "    elif (column[i] < second_limit):\n",
        "      column[i] = 1\n",
        "    elif (column[i] < third_limit):\n",
        "      column[i] = 2\n",
        "    else:\n",
        "      column[i] = 3\n",
        "    \n",
        "  return column\n",
        "      \n",
        " "
      ],
      "execution_count": 0,
      "outputs": []
    },
    {
      "metadata": {
        "id": "LTqox1kSV0SM",
        "colab_type": "code",
        "colab": {}
      },
      "cell_type": "code",
      "source": [
        "from sklearn import datasets\n",
        "iris = datasets.load_iris()\n",
        "X = iris.data\n",
        "Y = iris.target"
      ],
      "execution_count": 0,
      "outputs": []
    },
    {
      "metadata": {
        "id": "96xv1pW5XnQQ",
        "colab_type": "code",
        "colab": {
          "base_uri": "https://localhost:8080/",
          "height": 36
        },
        "outputId": "b8c1ee98-9177-4519-b4bd-58ec1588eb6b"
      },
      "cell_type": "code",
      "source": [
        "X.shape, Y.shape"
      ],
      "execution_count": 18,
      "outputs": [
        {
          "output_type": "execute_result",
          "data": {
            "text/plain": [
              "((150, 4), (150,))"
            ]
          },
          "metadata": {
            "tags": []
          },
          "execution_count": 18
        }
      ]
    },
    {
      "metadata": {
        "id": "b-qdw-Ih-0mq",
        "colab_type": "code",
        "colab": {}
      },
      "cell_type": "code",
      "source": [
        "for i in range(0,X.shape[-1]):\n",
        "  X[:,i] = makeLabelled(X[:,i])"
      ],
      "execution_count": 0,
      "outputs": []
    },
    {
      "metadata": {
        "id": "s_00BN_UY6QE",
        "colab_type": "code",
        "colab": {
          "base_uri": "https://localhost:8080/",
          "height": 187
        },
        "outputId": "d703fa21-6ed0-4ebe-f112-c60f06f90c0a"
      },
      "cell_type": "code",
      "source": [
        "X[:,3]  #All features converted from continuos to labelled "
      ],
      "execution_count": 20,
      "outputs": [
        {
          "output_type": "execute_result",
          "data": {
            "text/plain": [
              "array([0., 0., 0., 0., 0., 0., 0., 0., 0., 0., 0., 0., 0., 0., 0., 0., 0.,\n",
              "       0., 0., 0., 0., 0., 0., 0., 0., 0., 0., 0., 0., 0., 0., 0., 0., 0.,\n",
              "       0., 0., 0., 0., 0., 0., 0., 0., 0., 1., 0., 0., 0., 0., 0., 0., 2.,\n",
              "       2., 2., 2., 2., 2., 2., 1., 2., 2., 1., 2., 1., 2., 2., 2., 2., 1.,\n",
              "       2., 1., 3., 2., 2., 2., 2., 2., 2., 2., 2., 1., 1., 1., 2., 2., 2.,\n",
              "       2., 2., 2., 2., 2., 2., 2., 2., 1., 2., 2., 2., 2., 1., 2., 3., 3.,\n",
              "       3., 3., 3., 3., 2., 3., 3., 3., 3., 3., 3., 3., 3., 3., 3., 3., 3.,\n",
              "       2., 3., 3., 3., 3., 3., 3., 3., 3., 3., 2., 3., 3., 3., 2., 2., 3.,\n",
              "       3., 3., 3., 3., 3., 3., 3., 3., 3., 3., 3., 3., 3., 3.])"
            ]
          },
          "metadata": {
            "tags": []
          },
          "execution_count": 20
        }
      ]
    },
    {
      "metadata": {
        "id": "dYsJ3f54YJbq",
        "colab_type": "code",
        "colab": {}
      },
      "cell_type": "code",
      "source": [
        "from sklearn import model_selection\n",
        "X_train, X_test, Y_train, Y_test = model_selection.train_test_split(X,Y,test_size = 0.25,random_state = 0)"
      ],
      "execution_count": 0,
      "outputs": []
    },
    {
      "metadata": {
        "id": "A5-Awi0DYnzs",
        "colab_type": "code",
        "colab": {}
      },
      "cell_type": "code",
      "source": [
        "dictionary = fit(X_train, Y_train)"
      ],
      "execution_count": 0,
      "outputs": []
    },
    {
      "metadata": {
        "id": "7C0Y7RnYa6Gi",
        "colab_type": "code",
        "colab": {
          "base_uri": "https://localhost:8080/",
          "height": 36
        },
        "outputId": "e0176301-2811-4847-a548-53673c4e9c65"
      },
      "cell_type": "code",
      "source": [
        "set(Y_train), set(X_train[:,0]),set(X_train[:,1]),set(X_train[:,2]),set(X_train[:,3])  # 3 classes of target variable and 4 features "
      ],
      "execution_count": 24,
      "outputs": [
        {
          "output_type": "execute_result",
          "data": {
            "text/plain": [
              "({0, 1, 2}, {1.0, 2.0}, {1.0, 2.0}, {0.0, 1.0, 2.0, 3.0}, {0.0, 1.0, 2.0, 3.0})"
            ]
          },
          "metadata": {
            "tags": []
          },
          "execution_count": 24
        }
      ]
    },
    {
      "metadata": {
        "id": "4PxZVz53Y2ls",
        "colab_type": "code",
        "colab": {
          "base_uri": "https://localhost:8080/",
          "height": 111
        },
        "outputId": "eb5c9a52-5d38-4c20-80b5-2112a59a1256"
      },
      "cell_type": "code",
      "source": [
        "dictionary[0]  # For class label '0' this is the distribution of labels for each of the four features"
      ],
      "execution_count": 25,
      "outputs": [
        {
          "output_type": "execute_result",
          "data": {
            "text/plain": [
              "{1: {1.0: 37, 2.0: 0},\n",
              " 2: {1.0: 6, 2.0: 31},\n",
              " 3: {0.0: 37, 1.0: 0, 2.0: 0, 3.0: 0},\n",
              " 4: {0.0: 36, 1.0: 1, 2.0: 0, 3.0: 0},\n",
              " 'total_count': 37}"
            ]
          },
          "metadata": {
            "tags": []
          },
          "execution_count": 25
        }
      ]
    },
    {
      "metadata": {
        "id": "PygWGVdMcLGE",
        "colab_type": "code",
        "colab": {
          "base_uri": "https://localhost:8080/",
          "height": 36
        },
        "outputId": "07556f19-a7a8-4256-caf3-fc1da03a2789"
      },
      "cell_type": "code",
      "source": [
        "y_pred = predict(dictionary, X_test)\n",
        "y_pred[:5]"
      ],
      "execution_count": 28,
      "outputs": [
        {
          "output_type": "execute_result",
          "data": {
            "text/plain": [
              "[2, 1, 0, 2, 0]"
            ]
          },
          "metadata": {
            "tags": []
          },
          "execution_count": 28
        }
      ]
    },
    {
      "metadata": {
        "id": "bnR-G8mvd1-M",
        "colab_type": "code",
        "colab": {
          "base_uri": "https://localhost:8080/",
          "height": 225
        },
        "outputId": "042f7e5e-5564-4603-c611-d61057e939b2"
      },
      "cell_type": "code",
      "source": [
        "from sklearn.metrics import classification_report, confusion_matrix\n",
        "print(classification_report(Y_test,y_pred))\n",
        "print(confusion_matrix(Y_test,y_pred))"
      ],
      "execution_count": 27,
      "outputs": [
        {
          "output_type": "stream",
          "text": [
            "             precision    recall  f1-score   support\n",
            "\n",
            "          0       1.00      1.00      1.00        13\n",
            "          1       0.94      1.00      0.97        16\n",
            "          2       1.00      0.89      0.94         9\n",
            "\n",
            "avg / total       0.98      0.97      0.97        38\n",
            "\n",
            "[[13  0  0]\n",
            " [ 0 16  0]\n",
            " [ 0  1  8]]\n"
          ],
          "name": "stdout"
        }
      ]
    },
    {
      "metadata": {
        "id": "UqJeu-VqduGO",
        "colab_type": "code",
        "colab": {}
      },
      "cell_type": "code",
      "source": [
        ""
      ],
      "execution_count": 0,
      "outputs": []
    }
  ]
}